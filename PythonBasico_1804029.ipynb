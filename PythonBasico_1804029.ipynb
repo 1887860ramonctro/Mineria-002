{
 "cells": [
  {
   "cell_type": "markdown",
   "metadata": {},
   "source": [
    "# Sabina Alejandra Castillo Trujillo"
   ]
  },
  {
   "cell_type": "markdown",
   "metadata": {},
   "source": [
    "### Ejercicio 1: \n",
    "\n",
    "Realiza una variable con tu matricula y realiza una secuencia de imprimir con tu nombre y tu matricula concatenados."
   ]
  },
  {
   "cell_type": "code",
   "execution_count": 2,
   "metadata": {},
   "outputs": [
    {
     "name": "stdout",
     "output_type": "stream",
     "text": [
      "Sabina Castillo 1804029\n"
     ]
    }
   ],
   "source": [
    "mat=1804029\n",
    "nom=\"Sabina Castillo \"\n",
    "print(nom + str(mat))"
   ]
  },
  {
   "cell_type": "markdown",
   "metadata": {},
   "source": [
    "### Ejercicio 2:\n",
    "\n",
    "Pidiendo el input del usuario pide dos números y crea una pequeña calculadora con los operadores básicos de suma, resta, multiplicación, división, y exponente."
   ]
  },
  {
   "cell_type": "code",
   "execution_count": 1,
   "metadata": {},
   "outputs": [
    {
     "name": "stdout",
     "output_type": "stream",
     "text": [
      "Introduzca un número: 5\n",
      "Introduzca otro número: 9\n",
      "Suma:  14\n",
      "Resta:  -4\n",
      "Multiplicación:  45\n",
      "División:  0.5555555555555556\n",
      "Exponente:  1953125\n"
     ]
    }
   ],
   "source": [
    "a=int(input(\"Introduzca un número: \"))\n",
    "b=int(input(\"Introduzca otro número: \"))\n",
    "\n",
    "print(\"Suma: \",a+b)\n",
    "print(\"Resta: \",a-b)\n",
    "print(\"Multiplicación: \",a*b)\n",
    "print(\"División: \",a/b)\n",
    "print(\"Exponente: \",a**b)"
   ]
  },
  {
   "cell_type": "markdown",
   "metadata": {},
   "source": [
    "### Ejercicio 3: \n",
    "\n",
    "Con loop while o for, realiza una lista de 10 numeros multiplos de 3, y después realiza una función de loop que sume todos los números dentro del arreglo."
   ]
  },
  {
   "cell_type": "code",
   "execution_count": 7,
   "metadata": {},
   "outputs": [
    {
     "data": {
      "text/plain": [
       "[3, 6, 9, 12, 15, 18, 21, 24, 27, 30]"
      ]
     },
     "execution_count": 7,
     "metadata": {},
     "output_type": "execute_result"
    }
   ],
   "source": [
    "lista=[i*3 for i in range(1,11)]\n",
    "lista"
   ]
  },
  {
   "cell_type": "code",
   "execution_count": 8,
   "metadata": {},
   "outputs": [],
   "source": [
    "def sumar(lista):\n",
    "    suma=0\n",
    "    for i in range(len(lista)):\n",
    "        suma=suma+lista[i]\n",
    "    return suma"
   ]
  },
  {
   "cell_type": "code",
   "execution_count": 9,
   "metadata": {},
   "outputs": [
    {
     "data": {
      "text/plain": [
       "165"
      ]
     },
     "execution_count": 9,
     "metadata": {},
     "output_type": "execute_result"
    }
   ],
   "source": [
    "sumar(lista)"
   ]
  },
  {
   "cell_type": "markdown",
   "metadata": {},
   "source": [
    "### Ejercicio 4\n",
    "\n",
    "- Con una función de if else, revisar si un número es par o es impar.\n",
    "- Con una función de if else, revisar si un número es primo o no."
   ]
  },
  {
   "cell_type": "code",
   "execution_count": 13,
   "metadata": {},
   "outputs": [
    {
     "name": "stdout",
     "output_type": "stream",
     "text": [
      "Introduzca un número: 431\n",
      "El número es impar\n"
     ]
    }
   ],
   "source": [
    "a = int(input(\"Introduzca un número: \"))\n",
    "\n",
    "if a%2==0:\n",
    "    print(\"El número es par\")\n",
    "else:\n",
    "    print(\"El número es impar\")"
   ]
  },
  {
   "cell_type": "code",
   "execution_count": 31,
   "metadata": {},
   "outputs": [
    {
     "name": "stdout",
     "output_type": "stream",
     "text": [
      "Introduzca un número: 29\n",
      "Es número primo\n"
     ]
    }
   ],
   "source": [
    "a = int(input(\"Introduzca un número: \"))\n",
    "\n",
    "raiz=int(a**.5)\n",
    "primo=True\n",
    "for i in range(2,raiz+1):\n",
    "    if a%i==0:\n",
    "        print(\"No es número primo\")\n",
    "        primo=False\n",
    "        break\n",
    "if primo==True:\n",
    "    print(\"Es número primo\")"
   ]
  },
  {
   "cell_type": "markdown",
   "metadata": {},
   "source": [
    "### Ejercicio 5\n",
    "\n",
    "Utilizando diferentes clases en python, crea una calculadora con los operadores  básicos de suma, resta, multiplicación, división, y exponente."
   ]
  },
  {
   "cell_type": "code",
   "execution_count": 45,
   "metadata": {},
   "outputs": [],
   "source": [
    "def calcu1(a,b): #usando diccionario\n",
    "    suma=a+b\n",
    "    resta=a-b\n",
    "    multi=a*b\n",
    "    div=a/b\n",
    "    e=a**b\n",
    "    return {\"Suma\":suma,\"Resta\":resta,\"Multiplicación\":multi,\"División\":div,\"Exponente\":e}"
   ]
  },
  {
   "cell_type": "code",
   "execution_count": 46,
   "metadata": {},
   "outputs": [
    {
     "data": {
      "text/plain": [
       "{'Suma': 11,\n",
       " 'Resta': -1,\n",
       " 'Multiplicación': 30,\n",
       " 'División': 0.8333333333333334,\n",
       " 'Exponente': 15625}"
      ]
     },
     "execution_count": 46,
     "metadata": {},
     "output_type": "execute_result"
    }
   ],
   "source": [
    "calcu1(5,6)"
   ]
  },
  {
   "cell_type": "code",
   "execution_count": 10,
   "metadata": {},
   "outputs": [],
   "source": [
    "import pandas as pd\n",
    "def calcu2(a,b): #usando dataframe\n",
    "    suma=a+b\n",
    "    resta=a-b\n",
    "    multi=a*b\n",
    "    div=a/b\n",
    "    e=a**b\n",
    "    return pd.DataFrame([suma,resta,multi,div,e],index=[\"Suma\",\"Resta\",\"Multiplicación\",\"División\",\"Exponente\"],columns=[\"Resultados\"])"
   ]
  },
  {
   "cell_type": "code",
   "execution_count": 11,
   "metadata": {},
   "outputs": [
    {
     "data": {
      "text/html": [
       "<div>\n",
       "<style scoped>\n",
       "    .dataframe tbody tr th:only-of-type {\n",
       "        vertical-align: middle;\n",
       "    }\n",
       "\n",
       "    .dataframe tbody tr th {\n",
       "        vertical-align: top;\n",
       "    }\n",
       "\n",
       "    .dataframe thead th {\n",
       "        text-align: right;\n",
       "    }\n",
       "</style>\n",
       "<table border=\"1\" class=\"dataframe\">\n",
       "  <thead>\n",
       "    <tr style=\"text-align: right;\">\n",
       "      <th></th>\n",
       "      <th>Resultados</th>\n",
       "    </tr>\n",
       "  </thead>\n",
       "  <tbody>\n",
       "    <tr>\n",
       "      <th>Suma</th>\n",
       "      <td>1.800000e+01</td>\n",
       "    </tr>\n",
       "    <tr>\n",
       "      <th>Resta</th>\n",
       "      <td>-2.000000e+00</td>\n",
       "    </tr>\n",
       "    <tr>\n",
       "      <th>Multiplicación</th>\n",
       "      <td>8.000000e+01</td>\n",
       "    </tr>\n",
       "    <tr>\n",
       "      <th>División</th>\n",
       "      <td>8.000000e-01</td>\n",
       "    </tr>\n",
       "    <tr>\n",
       "      <th>Exponente</th>\n",
       "      <td>1.073742e+09</td>\n",
       "    </tr>\n",
       "  </tbody>\n",
       "</table>\n",
       "</div>"
      ],
      "text/plain": [
       "                  Resultados\n",
       "Suma            1.800000e+01\n",
       "Resta          -2.000000e+00\n",
       "Multiplicación  8.000000e+01\n",
       "División        8.000000e-01\n",
       "Exponente       1.073742e+09"
      ]
     },
     "execution_count": 11,
     "metadata": {},
     "output_type": "execute_result"
    }
   ],
   "source": [
    "calcu2(8,10)"
   ]
  },
  {
   "cell_type": "markdown",
   "metadata": {},
   "source": [
    "## Ejercicios con estructuras básicas de python."
   ]
  },
  {
   "cell_type": "markdown",
   "metadata": {},
   "source": [
    "#### Tuplas\n",
    "\n",
    "- Crear una variable flotante, integer, boleana y compleja e imprimir el tipo de variable que es.\n"
   ]
  },
  {
   "cell_type": "code",
   "execution_count": 54,
   "metadata": {},
   "outputs": [],
   "source": [
    "flot=4.789\n",
    "inte=59\n",
    "bol=True\n",
    "comp=4+3j"
   ]
  },
  {
   "cell_type": "code",
   "execution_count": 55,
   "metadata": {},
   "outputs": [
    {
     "name": "stdout",
     "output_type": "stream",
     "text": [
      "<class 'float'>\n",
      "<class 'int'>\n",
      "<class 'bool'>\n",
      "<class 'complex'>\n"
     ]
    }
   ],
   "source": [
    "print(type(flot))\n",
    "print(type(inte))\n",
    "print(type(bol))\n",
    "print(type(comp))"
   ]
  },
  {
   "cell_type": "markdown",
   "metadata": {},
   "source": [
    "\n",
    "- Crear una tupla con valores enteros imprimir el primer y ultimo valor."
   ]
  },
  {
   "cell_type": "code",
   "execution_count": 58,
   "metadata": {},
   "outputs": [
    {
     "name": "stdout",
     "output_type": "stream",
     "text": [
      "Primer valor:  2\n",
      "Último valor:  78\n"
     ]
    }
   ],
   "source": [
    "tupla=(2,56,7,65,98,23,12,87,9,78)\n",
    "\n",
    "print(\"Primer valor: \",tupla[0])\n",
    "print(\"Último valor: \",tupla[-1])"
   ]
  },
  {
   "cell_type": "markdown",
   "metadata": {},
   "source": [
    "- Añadir 3 valores de string a la tupla."
   ]
  },
  {
   "cell_type": "code",
   "execution_count": 65,
   "metadata": {},
   "outputs": [
    {
     "data": {
      "text/plain": [
       "(2, 56, 7, 65, 98, 23, 12, 87, 9, 78, 'hola', 'cómo', 'estás')"
      ]
     },
     "execution_count": 65,
     "metadata": {},
     "output_type": "execute_result"
    }
   ],
   "source": [
    "tupla+(\"hola\",\"cómo\",\"estás\")"
   ]
  },
  {
   "cell_type": "markdown",
   "metadata": {},
   "source": [
    "- Verificar si una variable existe dentro de la tupla."
   ]
  },
  {
   "cell_type": "code",
   "execution_count": 66,
   "metadata": {},
   "outputs": [
    {
     "data": {
      "text/plain": [
       "True"
      ]
     },
     "execution_count": 66,
     "metadata": {},
     "output_type": "execute_result"
    }
   ],
   "source": [
    "98 in tupla"
   ]
  },
  {
   "cell_type": "code",
   "execution_count": 67,
   "metadata": {
    "scrolled": true
   },
   "outputs": [
    {
     "data": {
      "text/plain": [
       "False"
      ]
     },
     "execution_count": 67,
     "metadata": {},
     "output_type": "execute_result"
    }
   ],
   "source": [
    "\"Sabina\" in tupla"
   ]
  },
  {
   "cell_type": "markdown",
   "metadata": {},
   "source": [
    "#### Listas\n",
    "\n",
    "- Crear una lista con 40 elementos aleatorios enteros."
   ]
  },
  {
   "cell_type": "code",
   "execution_count": 12,
   "metadata": {
    "scrolled": false
   },
   "outputs": [
    {
     "data": {
      "text/plain": [
       "[67,\n",
       " 78,\n",
       " 14,\n",
       " 14,\n",
       " 11,\n",
       " 35,\n",
       " 18,\n",
       " 3,\n",
       " 26,\n",
       " 67,\n",
       " 54,\n",
       " 2,\n",
       " 6,\n",
       " 41,\n",
       " 91,\n",
       " 13,\n",
       " 54,\n",
       " 74,\n",
       " 94,\n",
       " 8,\n",
       " 36,\n",
       " 61,\n",
       " 90,\n",
       " 97,\n",
       " 91,\n",
       " 73,\n",
       " 98,\n",
       " 50,\n",
       " 4,\n",
       " 63,\n",
       " 36,\n",
       " 49,\n",
       " 30,\n",
       " 3,\n",
       " 8,\n",
       " 84,\n",
       " 11,\n",
       " 83,\n",
       " 5,\n",
       " 10]"
      ]
     },
     "execution_count": 12,
     "metadata": {},
     "output_type": "execute_result"
    }
   ],
   "source": [
    "import random as r\n",
    "lista=[r.randint(1, 100) for i in range(40)]\n",
    "lista"
   ]
  },
  {
   "cell_type": "markdown",
   "metadata": {},
   "source": [
    "- Con una funcion (def) crear dos listas nuevas a partir de la lista creada por numeros aleatorios, en la cual en una esten los elementos pares, y en la otra los elementos impares."
   ]
  },
  {
   "cell_type": "code",
   "execution_count": 13,
   "metadata": {},
   "outputs": [],
   "source": [
    "def par_imp(lista):\n",
    "    par=[]\n",
    "    impar=[]\n",
    "    for i in range(len(lista)):\n",
    "        if lista[i]%2==0:\n",
    "            par.append(lista[i])\n",
    "        else:\n",
    "            impar.append(lista[i])\n",
    "    return par,impar"
   ]
  },
  {
   "cell_type": "code",
   "execution_count": 14,
   "metadata": {},
   "outputs": [
    {
     "name": "stdout",
     "output_type": "stream",
     "text": [
      "Números pares:  [78, 14, 14, 18, 26, 54, 2, 6, 54, 74, 94, 8, 36, 90, 98, 50, 4, 36, 30, 8, 84, 10]\n",
      "Números impares:  [67, 11, 35, 3, 67, 41, 91, 13, 61, 97, 91, 73, 63, 49, 3, 11, 83, 5]\n"
     ]
    }
   ],
   "source": [
    "par,impar=par_imp(lista)\n",
    "print(\"Números pares: \",par)\n",
    "print(\"Números impares: \",impar)"
   ]
  },
  {
   "cell_type": "markdown",
   "metadata": {},
   "source": [
    "- Crear dos variables con la longitud de ambas listas nuevas e imprimir las variables."
   ]
  },
  {
   "cell_type": "code",
   "execution_count": 15,
   "metadata": {},
   "outputs": [
    {
     "name": "stdout",
     "output_type": "stream",
     "text": [
      "Cantidad de números pares:  22\n",
      "Cantidad de números impares:  18\n"
     ]
    }
   ],
   "source": [
    "p=len(par)\n",
    "i=len(impar)\n",
    "print(\"Cantidad de números pares: \",p)\n",
    "print(\"Cantidad de números impares: \",i)"
   ]
  },
  {
   "cell_type": "markdown",
   "metadata": {},
   "source": [
    "- Ordenar los elementos de la lista par de mayor a menor, y los de la lista impar de menor a mayor."
   ]
  },
  {
   "cell_type": "code",
   "execution_count": 16,
   "metadata": {},
   "outputs": [
    {
     "data": {
      "text/plain": [
       "[98,\n",
       " 94,\n",
       " 90,\n",
       " 84,\n",
       " 78,\n",
       " 74,\n",
       " 54,\n",
       " 54,\n",
       " 50,\n",
       " 36,\n",
       " 36,\n",
       " 30,\n",
       " 26,\n",
       " 18,\n",
       " 14,\n",
       " 14,\n",
       " 10,\n",
       " 8,\n",
       " 8,\n",
       " 6,\n",
       " 4,\n",
       " 2]"
      ]
     },
     "execution_count": 16,
     "metadata": {},
     "output_type": "execute_result"
    }
   ],
   "source": [
    "par.sort(reverse=True)\n",
    "par"
   ]
  },
  {
   "cell_type": "code",
   "execution_count": 17,
   "metadata": {},
   "outputs": [
    {
     "data": {
      "text/plain": [
       "[3, 3, 5, 11, 11, 13, 35, 41, 49, 61, 63, 67, 67, 73, 83, 91, 91, 97]"
      ]
     },
     "execution_count": 17,
     "metadata": {},
     "output_type": "execute_result"
    }
   ],
   "source": [
    "impar.sort()\n",
    "impar"
   ]
  },
  {
   "cell_type": "markdown",
   "metadata": {},
   "source": [
    "- Utilizar al menos cuatro de las funciones de listas en python en la lista original de 40 elementos."
   ]
  },
  {
   "cell_type": "code",
   "execution_count": 18,
   "metadata": {},
   "outputs": [
    {
     "data": {
      "text/plain": [
       "[101,\n",
       " 67,\n",
       " 78,\n",
       " 14,\n",
       " 14,\n",
       " 11,\n",
       " 35,\n",
       " 18,\n",
       " 3,\n",
       " 26,\n",
       " 67,\n",
       " 54,\n",
       " 2,\n",
       " 6,\n",
       " 41,\n",
       " 91,\n",
       " 13,\n",
       " 54,\n",
       " 74,\n",
       " 94,\n",
       " 8,\n",
       " 36,\n",
       " 61,\n",
       " 90,\n",
       " 97,\n",
       " 91,\n",
       " 73,\n",
       " 98,\n",
       " 50,\n",
       " 4,\n",
       " 63,\n",
       " 36,\n",
       " 49,\n",
       " 30,\n",
       " 3,\n",
       " 8,\n",
       " 84,\n",
       " 11,\n",
       " 83,\n",
       " 5,\n",
       " 10]"
      ]
     },
     "execution_count": 18,
     "metadata": {},
     "output_type": "execute_result"
    }
   ],
   "source": [
    "lista.insert(0,101)\n",
    "lista"
   ]
  },
  {
   "cell_type": "code",
   "execution_count": 19,
   "metadata": {},
   "outputs": [
    {
     "data": {
      "text/plain": [
       "[101,\n",
       " 67,\n",
       " 78,\n",
       " 14,\n",
       " 14,\n",
       " 11,\n",
       " 35,\n",
       " 18,\n",
       " 3,\n",
       " 26,\n",
       " 67,\n",
       " 54,\n",
       " 2,\n",
       " 6,\n",
       " 41,\n",
       " 91,\n",
       " 13,\n",
       " 54,\n",
       " 74,\n",
       " 94,\n",
       " 8,\n",
       " 36,\n",
       " 61,\n",
       " 90,\n",
       " 97,\n",
       " 91,\n",
       " 73,\n",
       " 98,\n",
       " 50,\n",
       " 4,\n",
       " 63,\n",
       " 36,\n",
       " 49,\n",
       " 30,\n",
       " 3,\n",
       " 8,\n",
       " 84,\n",
       " 11,\n",
       " 83,\n",
       " 5,\n",
       " 10,\n",
       " 40,\n",
       " 88,\n",
       " 12]"
      ]
     },
     "execution_count": 19,
     "metadata": {},
     "output_type": "execute_result"
    }
   ],
   "source": [
    "lista2=[40,88,12]\n",
    "lista.extend(lista2)\n",
    "lista"
   ]
  },
  {
   "cell_type": "code",
   "execution_count": 20,
   "metadata": {},
   "outputs": [
    {
     "data": {
      "text/plain": [
       "[12,\n",
       " 88,\n",
       " 40,\n",
       " 10,\n",
       " 5,\n",
       " 83,\n",
       " 11,\n",
       " 84,\n",
       " 8,\n",
       " 3,\n",
       " 30,\n",
       " 49,\n",
       " 36,\n",
       " 63,\n",
       " 4,\n",
       " 50,\n",
       " 98,\n",
       " 73,\n",
       " 91,\n",
       " 97,\n",
       " 90,\n",
       " 61,\n",
       " 36,\n",
       " 8,\n",
       " 94,\n",
       " 74,\n",
       " 54,\n",
       " 13,\n",
       " 91,\n",
       " 41,\n",
       " 6,\n",
       " 2,\n",
       " 54,\n",
       " 67,\n",
       " 26,\n",
       " 3,\n",
       " 18,\n",
       " 35,\n",
       " 11,\n",
       " 14,\n",
       " 14,\n",
       " 78,\n",
       " 67,\n",
       " 101]"
      ]
     },
     "execution_count": 20,
     "metadata": {},
     "output_type": "execute_result"
    }
   ],
   "source": [
    "lista.reverse()\n",
    "lista"
   ]
  },
  {
   "cell_type": "code",
   "execution_count": 22,
   "metadata": {},
   "outputs": [
    {
     "data": {
      "text/plain": [
       "34"
      ]
     },
     "execution_count": 22,
     "metadata": {},
     "output_type": "execute_result"
    }
   ],
   "source": [
    "lista.index(26)"
   ]
  },
  {
   "cell_type": "markdown",
   "metadata": {},
   "source": [
    "#### Diccionarios\n",
    "\n",
    "- Crear un diccionario de 6 personas que conozcas con su primer nombre y su edad."
   ]
  },
  {
   "cell_type": "code",
   "execution_count": 123,
   "metadata": {},
   "outputs": [
    {
     "data": {
      "text/plain": [
       "{'Victor': 20,\n",
       " 'Rodrigo': 9,\n",
       " 'Valeria': 15,\n",
       " 'Anahi': 23,\n",
       " 'María': 45,\n",
       " 'Ramón': 21}"
      ]
     },
     "execution_count": 123,
     "metadata": {},
     "output_type": "execute_result"
    }
   ],
   "source": [
    "dic={\"Victor\":20,\"Rodrigo\":9,\"Valeria\":15,\"Anahi\":23,\"María\":45,\"Ramón\":21}\n",
    "dic"
   ]
  },
  {
   "cell_type": "markdown",
   "metadata": {},
   "source": [
    "- Crear una lista con los valores de la edad y reacomodar la lista de menor a mayor valor."
   ]
  },
  {
   "cell_type": "code",
   "execution_count": 140,
   "metadata": {},
   "outputs": [
    {
     "data": {
      "text/plain": [
       "[9, 15, 20, 21, 23, 45]"
      ]
     },
     "execution_count": 140,
     "metadata": {},
     "output_type": "execute_result"
    }
   ],
   "source": [
    "edad=[i for i in dic.values()]\n",
    "edad.sort()\n",
    "edad"
   ]
  },
  {
   "cell_type": "markdown",
   "metadata": {},
   "source": [
    "- Usando el diccionario y un loop, imprimir solo los nombres."
   ]
  },
  {
   "cell_type": "code",
   "execution_count": 141,
   "metadata": {},
   "outputs": [
    {
     "name": "stdout",
     "output_type": "stream",
     "text": [
      "Victor\n",
      "Rodrigo\n",
      "Valeria\n",
      "Anahi\n",
      "María\n",
      "Ramón\n"
     ]
    }
   ],
   "source": [
    "for i in dic:\n",
    "    print(i)"
   ]
  },
  {
   "cell_type": "markdown",
   "metadata": {},
   "source": [
    "- Añadir dos personas nuevas a tu diccionario, incluyendo edad."
   ]
  },
  {
   "cell_type": "code",
   "execution_count": 142,
   "metadata": {
    "scrolled": true
   },
   "outputs": [
    {
     "data": {
      "text/plain": [
       "{'Victor': 20,\n",
       " 'Rodrigo': 9,\n",
       " 'Valeria': 15,\n",
       " 'Anahi': 23,\n",
       " 'María': 45,\n",
       " 'Ramón': 21,\n",
       " 'Susana': 8,\n",
       " 'Celia': 75}"
      ]
     },
     "execution_count": 142,
     "metadata": {},
     "output_type": "execute_result"
    }
   ],
   "source": [
    "dic[\"Susana\"]=8\n",
    "dic[\"Celia\"]=75\n",
    "dic"
   ]
  },
  {
   "cell_type": "markdown",
   "metadata": {},
   "source": [
    "#### Sets\n",
    "\n",
    "- Crea un set con 100 numeros aleatorios enteros del 1 al 25."
   ]
  },
  {
   "cell_type": "code",
   "execution_count": 160,
   "metadata": {},
   "outputs": [
    {
     "data": {
      "text/plain": [
       "{1,\n",
       " 2,\n",
       " 3,\n",
       " 4,\n",
       " 5,\n",
       " 6,\n",
       " 7,\n",
       " 8,\n",
       " 9,\n",
       " 10,\n",
       " 11,\n",
       " 12,\n",
       " 13,\n",
       " 14,\n",
       " 15,\n",
       " 16,\n",
       " 17,\n",
       " 18,\n",
       " 19,\n",
       " 20,\n",
       " 21,\n",
       " 22,\n",
       " 23,\n",
       " 24,\n",
       " 25}"
      ]
     },
     "execution_count": 160,
     "metadata": {},
     "output_type": "execute_result"
    }
   ],
   "source": [
    "s={r.randint(1,25) for i in range(100)}\n",
    "s"
   ]
  },
  {
   "cell_type": "markdown",
   "metadata": {},
   "source": [
    "- Comprueba la longitud de tu set.\n"
   ]
  },
  {
   "cell_type": "code",
   "execution_count": 161,
   "metadata": {},
   "outputs": [
    {
     "data": {
      "text/plain": [
       "25"
      ]
     },
     "execution_count": 161,
     "metadata": {},
     "output_type": "execute_result"
    }
   ],
   "source": [
    "len(s)"
   ]
  },
  {
   "cell_type": "markdown",
   "metadata": {},
   "source": [
    "- Crea una lista de 5 numeros aleatorios del 1 al 10 y comprueba si cada valor aparece en el set inicial."
   ]
  },
  {
   "cell_type": "code",
   "execution_count": 163,
   "metadata": {},
   "outputs": [
    {
     "data": {
      "text/plain": [
       "[6, 6, 5, 6, 2]"
      ]
     },
     "execution_count": 163,
     "metadata": {},
     "output_type": "execute_result"
    }
   ],
   "source": [
    "l=[r.randint(1,10) for i in range(5)]\n",
    "l"
   ]
  },
  {
   "cell_type": "code",
   "execution_count": 164,
   "metadata": {},
   "outputs": [
    {
     "name": "stdout",
     "output_type": "stream",
     "text": [
      "¿ 6  está en el set?  True\n",
      "¿ 6  está en el set?  True\n",
      "¿ 5  está en el set?  True\n",
      "¿ 6  está en el set?  True\n",
      "¿ 2  está en el set?  True\n"
     ]
    }
   ],
   "source": [
    "for i in range(len(l)):\n",
    "    print(\"¿\",l[i],\" está en el set? \",l[i] in s)"
   ]
  },
  {
   "cell_type": "code",
   "execution_count": null,
   "metadata": {},
   "outputs": [],
   "source": []
  }
 ],
 "metadata": {
  "kernelspec": {
   "display_name": "Python 3",
   "language": "python",
   "name": "python3"
  },
  "language_info": {
   "codemirror_mode": {
    "name": "ipython",
    "version": 3
   },
   "file_extension": ".py",
   "mimetype": "text/x-python",
   "name": "python",
   "nbconvert_exporter": "python",
   "pygments_lexer": "ipython3",
   "version": "3.7.6"
  }
 },
 "nbformat": 4,
 "nbformat_minor": 4
}
